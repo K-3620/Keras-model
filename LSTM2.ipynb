{
  "nbformat": 4,
  "nbformat_minor": 0,
  "metadata": {
    "colab": {
      "name": "LSTM2.ipynb",
      "provenance": [],
      "mount_file_id": "1I83SN8KfCRr2U5Pj9A0xZURGIudy1vk-",
      "authorship_tag": "ABX9TyPwUFl9pQJckvI6jNrV/EWX",
      "include_colab_link": true
    },
    "kernelspec": {
      "name": "python3",
      "display_name": "Python 3"
    }
  },
  "cells": [
    {
      "cell_type": "markdown",
      "metadata": {
        "id": "view-in-github",
        "colab_type": "text"
      },
      "source": [
        "<a href=\"https://colab.research.google.com/github/K-3620/Keras-model/blob/main/LSTM2.ipynb\" target=\"_parent\"><img src=\"https://colab.research.google.com/assets/colab-badge.svg\" alt=\"Open In Colab\"/></a>"
      ]
    },
    {
      "cell_type": "code",
      "metadata": {
        "id": "APGDvP7vOs-Q"
      },
      "source": [
        "import numpy as np\n",
        "import pandas as pd\n",
        "import seaborn as sns\n",
        "import matplotlib.pyplot as plt\n",
        "%matplotlib inline\n",
        "from sklearn.model_selection import train_test_split\n",
        "\n",
        "from keras.models import Model,Sequential\n",
        "from keras.layers import Input,Dense,LSTM,Bidirectional\n",
        "from keras import backend as K\n",
        "from keras.layers.core import Dense, Activation, Dropout\n",
        "from keras.layers.recurrent import LSTM "
      ],
      "execution_count": 1,
      "outputs": []
    },
    {
      "cell_type": "code",
      "metadata": {
        "id": "V6bXYkVpOwx4",
        "outputId": "fc847de1-9449-4f10-ccb9-a878f35fa642",
        "colab": {
          "base_uri": "https://localhost:8080/",
          "height": 450
        }
      },
      "source": [
        "data = pd.read_csv('/content/drive/My Drive/데이터수집/2010년부터10년치데이터.csv',index_col=0)\n",
        "data"
      ],
      "execution_count": 2,
      "outputs": [
        {
          "output_type": "execute_result",
          "data": {
            "text/html": [
              "<div>\n",
              "<style scoped>\n",
              "    .dataframe tbody tr th:only-of-type {\n",
              "        vertical-align: middle;\n",
              "    }\n",
              "\n",
              "    .dataframe tbody tr th {\n",
              "        vertical-align: top;\n",
              "    }\n",
              "\n",
              "    .dataframe thead th {\n",
              "        text-align: right;\n",
              "    }\n",
              "</style>\n",
              "<table border=\"1\" class=\"dataframe\">\n",
              "  <thead>\n",
              "    <tr style=\"text-align: right;\">\n",
              "      <th></th>\n",
              "      <th>Open</th>\n",
              "      <th>High</th>\n",
              "      <th>Low</th>\n",
              "      <th>Close</th>\n",
              "      <th>Volume</th>\n",
              "      <th>Change</th>\n",
              "    </tr>\n",
              "    <tr>\n",
              "      <th>Date</th>\n",
              "      <th></th>\n",
              "      <th></th>\n",
              "      <th></th>\n",
              "      <th></th>\n",
              "      <th></th>\n",
              "      <th></th>\n",
              "    </tr>\n",
              "  </thead>\n",
              "  <tbody>\n",
              "    <tr>\n",
              "      <th>2010-01-04</th>\n",
              "      <td>7540</td>\n",
              "      <td>7820</td>\n",
              "      <td>7480</td>\n",
              "      <td>7520</td>\n",
              "      <td>177197</td>\n",
              "      <td>-0.007916</td>\n",
              "    </tr>\n",
              "    <tr>\n",
              "      <th>2010-01-05</th>\n",
              "      <td>7490</td>\n",
              "      <td>7580</td>\n",
              "      <td>7350</td>\n",
              "      <td>7500</td>\n",
              "      <td>214314</td>\n",
              "      <td>-0.002660</td>\n",
              "    </tr>\n",
              "    <tr>\n",
              "      <th>2010-01-06</th>\n",
              "      <td>7500</td>\n",
              "      <td>7500</td>\n",
              "      <td>7320</td>\n",
              "      <td>7350</td>\n",
              "      <td>81874</td>\n",
              "      <td>-0.020000</td>\n",
              "    </tr>\n",
              "    <tr>\n",
              "      <th>2010-01-07</th>\n",
              "      <td>7350</td>\n",
              "      <td>7420</td>\n",
              "      <td>7200</td>\n",
              "      <td>7210</td>\n",
              "      <td>106474</td>\n",
              "      <td>-0.019048</td>\n",
              "    </tr>\n",
              "    <tr>\n",
              "      <th>2010-01-08</th>\n",
              "      <td>7220</td>\n",
              "      <td>7330</td>\n",
              "      <td>7220</td>\n",
              "      <td>7240</td>\n",
              "      <td>61393</td>\n",
              "      <td>0.004161</td>\n",
              "    </tr>\n",
              "    <tr>\n",
              "      <th>...</th>\n",
              "      <td>...</td>\n",
              "      <td>...</td>\n",
              "      <td>...</td>\n",
              "      <td>...</td>\n",
              "      <td>...</td>\n",
              "      <td>...</td>\n",
              "    </tr>\n",
              "    <tr>\n",
              "      <th>2020-10-21</th>\n",
              "      <td>20200</td>\n",
              "      <td>20500</td>\n",
              "      <td>19850</td>\n",
              "      <td>20100</td>\n",
              "      <td>402212</td>\n",
              "      <td>-0.009852</td>\n",
              "    </tr>\n",
              "    <tr>\n",
              "      <th>2020-10-22</th>\n",
              "      <td>19850</td>\n",
              "      <td>20050</td>\n",
              "      <td>19000</td>\n",
              "      <td>19200</td>\n",
              "      <td>620779</td>\n",
              "      <td>-0.044776</td>\n",
              "    </tr>\n",
              "    <tr>\n",
              "      <th>2020-10-23</th>\n",
              "      <td>19500</td>\n",
              "      <td>20600</td>\n",
              "      <td>19350</td>\n",
              "      <td>19800</td>\n",
              "      <td>567794</td>\n",
              "      <td>0.031250</td>\n",
              "    </tr>\n",
              "    <tr>\n",
              "      <th>2020-10-26</th>\n",
              "      <td>19500</td>\n",
              "      <td>19750</td>\n",
              "      <td>17000</td>\n",
              "      <td>17100</td>\n",
              "      <td>1338181</td>\n",
              "      <td>-0.136364</td>\n",
              "    </tr>\n",
              "    <tr>\n",
              "      <th>2020-10-27</th>\n",
              "      <td>16850</td>\n",
              "      <td>18150</td>\n",
              "      <td>15900</td>\n",
              "      <td>17500</td>\n",
              "      <td>854079</td>\n",
              "      <td>0.023392</td>\n",
              "    </tr>\n",
              "  </tbody>\n",
              "</table>\n",
              "<p>2669 rows × 6 columns</p>\n",
              "</div>"
            ],
            "text/plain": [
              "             Open   High    Low  Close   Volume    Change\n",
              "Date                                                     \n",
              "2010-01-04   7540   7820   7480   7520   177197 -0.007916\n",
              "2010-01-05   7490   7580   7350   7500   214314 -0.002660\n",
              "2010-01-06   7500   7500   7320   7350    81874 -0.020000\n",
              "2010-01-07   7350   7420   7200   7210   106474 -0.019048\n",
              "2010-01-08   7220   7330   7220   7240    61393  0.004161\n",
              "...           ...    ...    ...    ...      ...       ...\n",
              "2020-10-21  20200  20500  19850  20100   402212 -0.009852\n",
              "2020-10-22  19850  20050  19000  19200   620779 -0.044776\n",
              "2020-10-23  19500  20600  19350  19800   567794  0.031250\n",
              "2020-10-26  19500  19750  17000  17100  1338181 -0.136364\n",
              "2020-10-27  16850  18150  15900  17500   854079  0.023392\n",
              "\n",
              "[2669 rows x 6 columns]"
            ]
          },
          "metadata": {
            "tags": []
          },
          "execution_count": 2
        }
      ]
    },
    {
      "cell_type": "code",
      "metadata": {
        "id": "NPs7NgazgQup",
        "outputId": "25abb908-59fb-46bc-d412-119a9ac40a49",
        "colab": {
          "base_uri": "https://localhost:8080/"
        }
      },
      "source": [
        "data.index"
      ],
      "execution_count": 3,
      "outputs": [
        {
          "output_type": "execute_result",
          "data": {
            "text/plain": [
              "Index(['2010-01-04', '2010-01-05', '2010-01-06', '2010-01-07', '2010-01-08',\n",
              "       '2010-01-11', '2010-01-12', '2010-01-13', '2010-01-14', '2010-01-15',\n",
              "       ...\n",
              "       '2020-10-14', '2020-10-15', '2020-10-16', '2020-10-19', '2020-10-20',\n",
              "       '2020-10-21', '2020-10-22', '2020-10-23', '2020-10-26', '2020-10-27'],\n",
              "      dtype='object', name='Date', length=2669)"
            ]
          },
          "metadata": {
            "tags": []
          },
          "execution_count": 3
        }
      ]
    },
    {
      "cell_type": "code",
      "metadata": {
        "id": "hCc8jUvRSJcW"
      },
      "source": [
        "target = data['Close']"
      ],
      "execution_count": 4,
      "outputs": []
    },
    {
      "cell_type": "code",
      "metadata": {
        "id": "MOa5Nve-TOJW",
        "outputId": "0587abd2-f4c5-4c76-bf20-6f73762c2170",
        "colab": {
          "base_uri": "https://localhost:8080/"
        }
      },
      "source": [
        "list(target.values)[-1]"
      ],
      "execution_count": 5,
      "outputs": [
        {
          "output_type": "execute_result",
          "data": {
            "text/plain": [
              "17500"
            ]
          },
          "metadata": {
            "tags": []
          },
          "execution_count": 5
        }
      ]
    },
    {
      "cell_type": "code",
      "metadata": {
        "id": "REc6UFPtStEm",
        "outputId": "277fa9c2-9ef0-41f4-bb4c-979afc58838b",
        "colab": {
          "base_uri": "https://localhost:8080/"
        }
      },
      "source": [
        "aa=[]\n",
        "\n",
        "aa.extend(list(target.values[1:-1]))\n",
        "aa.append('17500')\n",
        "\n",
        "len(aa)"
      ],
      "execution_count": 6,
      "outputs": [
        {
          "output_type": "execute_result",
          "data": {
            "text/plain": [
              "2668"
            ]
          },
          "metadata": {
            "tags": []
          },
          "execution_count": 6
        }
      ]
    },
    {
      "cell_type": "code",
      "metadata": {
        "id": "5u5VT3BqUkL3",
        "outputId": "2fc24a87-efdd-4243-8015-e6098b3242eb",
        "colab": {
          "base_uri": "https://localhost:8080/"
        }
      },
      "source": [
        "len(target.values[1:-1])"
      ],
      "execution_count": 7,
      "outputs": [
        {
          "output_type": "execute_result",
          "data": {
            "text/plain": [
              "2667"
            ]
          },
          "metadata": {
            "tags": []
          },
          "execution_count": 7
        }
      ]
    },
    {
      "cell_type": "code",
      "metadata": {
        "id": "l7305nlLR-kG",
        "outputId": "5fe528e6-9412-421f-a642-2c408a8cd437",
        "colab": {
          "base_uri": "https://localhost:8080/",
          "height": 450
        }
      },
      "source": [
        "from pandas import Series\n",
        "\n",
        "y_target= pd.DataFrame(data=aa,index=target.index[:-1],columns=['Close'])\n",
        "y_target  # 그 다음날 종가로 값 설정"
      ],
      "execution_count": 8,
      "outputs": [
        {
          "output_type": "execute_result",
          "data": {
            "text/html": [
              "<div>\n",
              "<style scoped>\n",
              "    .dataframe tbody tr th:only-of-type {\n",
              "        vertical-align: middle;\n",
              "    }\n",
              "\n",
              "    .dataframe tbody tr th {\n",
              "        vertical-align: top;\n",
              "    }\n",
              "\n",
              "    .dataframe thead th {\n",
              "        text-align: right;\n",
              "    }\n",
              "</style>\n",
              "<table border=\"1\" class=\"dataframe\">\n",
              "  <thead>\n",
              "    <tr style=\"text-align: right;\">\n",
              "      <th></th>\n",
              "      <th>Close</th>\n",
              "    </tr>\n",
              "    <tr>\n",
              "      <th>Date</th>\n",
              "      <th></th>\n",
              "    </tr>\n",
              "  </thead>\n",
              "  <tbody>\n",
              "    <tr>\n",
              "      <th>2010-01-04</th>\n",
              "      <td>7500</td>\n",
              "    </tr>\n",
              "    <tr>\n",
              "      <th>2010-01-05</th>\n",
              "      <td>7350</td>\n",
              "    </tr>\n",
              "    <tr>\n",
              "      <th>2010-01-06</th>\n",
              "      <td>7210</td>\n",
              "    </tr>\n",
              "    <tr>\n",
              "      <th>2010-01-07</th>\n",
              "      <td>7240</td>\n",
              "    </tr>\n",
              "    <tr>\n",
              "      <th>2010-01-08</th>\n",
              "      <td>7100</td>\n",
              "    </tr>\n",
              "    <tr>\n",
              "      <th>...</th>\n",
              "      <td>...</td>\n",
              "    </tr>\n",
              "    <tr>\n",
              "      <th>2020-10-20</th>\n",
              "      <td>20100</td>\n",
              "    </tr>\n",
              "    <tr>\n",
              "      <th>2020-10-21</th>\n",
              "      <td>19200</td>\n",
              "    </tr>\n",
              "    <tr>\n",
              "      <th>2020-10-22</th>\n",
              "      <td>19800</td>\n",
              "    </tr>\n",
              "    <tr>\n",
              "      <th>2020-10-23</th>\n",
              "      <td>17100</td>\n",
              "    </tr>\n",
              "    <tr>\n",
              "      <th>2020-10-26</th>\n",
              "      <td>17500</td>\n",
              "    </tr>\n",
              "  </tbody>\n",
              "</table>\n",
              "<p>2668 rows × 1 columns</p>\n",
              "</div>"
            ],
            "text/plain": [
              "            Close\n",
              "Date             \n",
              "2010-01-04   7500\n",
              "2010-01-05   7350\n",
              "2010-01-06   7210\n",
              "2010-01-07   7240\n",
              "2010-01-08   7100\n",
              "...           ...\n",
              "2020-10-20  20100\n",
              "2020-10-21  19200\n",
              "2020-10-22  19800\n",
              "2020-10-23  17100\n",
              "2020-10-26  17500\n",
              "\n",
              "[2668 rows x 1 columns]"
            ]
          },
          "metadata": {
            "tags": []
          },
          "execution_count": 8
        }
      ]
    },
    {
      "cell_type": "code",
      "metadata": {
        "id": "LT5Gr6ycghdH",
        "outputId": "eb73eaa3-fa50-4e3e-f02f-e56ff968cf9d",
        "colab": {
          "base_uri": "https://localhost:8080/"
        }
      },
      "source": [
        "y_target.values"
      ],
      "execution_count": 9,
      "outputs": [
        {
          "output_type": "execute_result",
          "data": {
            "text/plain": [
              "array([[7500],\n",
              "       [7350],\n",
              "       [7210],\n",
              "       ...,\n",
              "       [19800],\n",
              "       [17100],\n",
              "       ['17500']], dtype=object)"
            ]
          },
          "metadata": {
            "tags": []
          },
          "execution_count": 9
        }
      ]
    },
    {
      "cell_type": "code",
      "metadata": {
        "id": "76zIBAEQQEBE",
        "outputId": "50821759-565e-4b4c-d669-8a581d25b8a3",
        "colab": {
          "base_uri": "https://localhost:8080/",
          "height": 450
        }
      },
      "source": [
        "data[['Open','High','Low','Volume']][:-1]"
      ],
      "execution_count": 10,
      "outputs": [
        {
          "output_type": "execute_result",
          "data": {
            "text/html": [
              "<div>\n",
              "<style scoped>\n",
              "    .dataframe tbody tr th:only-of-type {\n",
              "        vertical-align: middle;\n",
              "    }\n",
              "\n",
              "    .dataframe tbody tr th {\n",
              "        vertical-align: top;\n",
              "    }\n",
              "\n",
              "    .dataframe thead th {\n",
              "        text-align: right;\n",
              "    }\n",
              "</style>\n",
              "<table border=\"1\" class=\"dataframe\">\n",
              "  <thead>\n",
              "    <tr style=\"text-align: right;\">\n",
              "      <th></th>\n",
              "      <th>Open</th>\n",
              "      <th>High</th>\n",
              "      <th>Low</th>\n",
              "      <th>Volume</th>\n",
              "    </tr>\n",
              "    <tr>\n",
              "      <th>Date</th>\n",
              "      <th></th>\n",
              "      <th></th>\n",
              "      <th></th>\n",
              "      <th></th>\n",
              "    </tr>\n",
              "  </thead>\n",
              "  <tbody>\n",
              "    <tr>\n",
              "      <th>2010-01-04</th>\n",
              "      <td>7540</td>\n",
              "      <td>7820</td>\n",
              "      <td>7480</td>\n",
              "      <td>177197</td>\n",
              "    </tr>\n",
              "    <tr>\n",
              "      <th>2010-01-05</th>\n",
              "      <td>7490</td>\n",
              "      <td>7580</td>\n",
              "      <td>7350</td>\n",
              "      <td>214314</td>\n",
              "    </tr>\n",
              "    <tr>\n",
              "      <th>2010-01-06</th>\n",
              "      <td>7500</td>\n",
              "      <td>7500</td>\n",
              "      <td>7320</td>\n",
              "      <td>81874</td>\n",
              "    </tr>\n",
              "    <tr>\n",
              "      <th>2010-01-07</th>\n",
              "      <td>7350</td>\n",
              "      <td>7420</td>\n",
              "      <td>7200</td>\n",
              "      <td>106474</td>\n",
              "    </tr>\n",
              "    <tr>\n",
              "      <th>2010-01-08</th>\n",
              "      <td>7220</td>\n",
              "      <td>7330</td>\n",
              "      <td>7220</td>\n",
              "      <td>61393</td>\n",
              "    </tr>\n",
              "    <tr>\n",
              "      <th>...</th>\n",
              "      <td>...</td>\n",
              "      <td>...</td>\n",
              "      <td>...</td>\n",
              "      <td>...</td>\n",
              "    </tr>\n",
              "    <tr>\n",
              "      <th>2020-10-20</th>\n",
              "      <td>20850</td>\n",
              "      <td>21600</td>\n",
              "      <td>19850</td>\n",
              "      <td>745574</td>\n",
              "    </tr>\n",
              "    <tr>\n",
              "      <th>2020-10-21</th>\n",
              "      <td>20200</td>\n",
              "      <td>20500</td>\n",
              "      <td>19850</td>\n",
              "      <td>402212</td>\n",
              "    </tr>\n",
              "    <tr>\n",
              "      <th>2020-10-22</th>\n",
              "      <td>19850</td>\n",
              "      <td>20050</td>\n",
              "      <td>19000</td>\n",
              "      <td>620779</td>\n",
              "    </tr>\n",
              "    <tr>\n",
              "      <th>2020-10-23</th>\n",
              "      <td>19500</td>\n",
              "      <td>20600</td>\n",
              "      <td>19350</td>\n",
              "      <td>567794</td>\n",
              "    </tr>\n",
              "    <tr>\n",
              "      <th>2020-10-26</th>\n",
              "      <td>19500</td>\n",
              "      <td>19750</td>\n",
              "      <td>17000</td>\n",
              "      <td>1338181</td>\n",
              "    </tr>\n",
              "  </tbody>\n",
              "</table>\n",
              "<p>2668 rows × 4 columns</p>\n",
              "</div>"
            ],
            "text/plain": [
              "             Open   High    Low   Volume\n",
              "Date                                    \n",
              "2010-01-04   7540   7820   7480   177197\n",
              "2010-01-05   7490   7580   7350   214314\n",
              "2010-01-06   7500   7500   7320    81874\n",
              "2010-01-07   7350   7420   7200   106474\n",
              "2010-01-08   7220   7330   7220    61393\n",
              "...           ...    ...    ...      ...\n",
              "2020-10-20  20850  21600  19850   745574\n",
              "2020-10-21  20200  20500  19850   402212\n",
              "2020-10-22  19850  20050  19000   620779\n",
              "2020-10-23  19500  20600  19350   567794\n",
              "2020-10-26  19500  19750  17000  1338181\n",
              "\n",
              "[2668 rows x 4 columns]"
            ]
          },
          "metadata": {
            "tags": []
          },
          "execution_count": 10
        }
      ]
    },
    {
      "cell_type": "code",
      "metadata": {
        "id": "kwzHJDWSO9VP"
      },
      "source": [
        "x_data = data[['Open','High','Low','Volume']][:-1] # 학습\n",
        "y_data = y_target # 답"
      ],
      "execution_count": 11,
      "outputs": []
    },
    {
      "cell_type": "code",
      "metadata": {
        "id": "wOKKfMi3PTLe"
      },
      "source": [
        "# 데이터 표준화\n",
        "from sklearn.preprocessing import StandardScaler\n",
        "\n",
        "x_datas = StandardScaler().fit_transform(x_data)\n",
        "y_datas = StandardScaler().fit_transform(y_data)"
      ],
      "execution_count": 12,
      "outputs": []
    },
    {
      "cell_type": "code",
      "metadata": {
        "id": "-1S4GtrkPpDN"
      },
      "source": [
        "# 데이터 분리하기\n",
        "x_train = x_datas[:2160]\n",
        "x_test = x_datas[2160:]\n",
        "\n",
        "y_train = y_datas[:2160]\n",
        "y_test = y_datas[2160:]"
      ],
      "execution_count": 13,
      "outputs": []
    },
    {
      "cell_type": "code",
      "metadata": {
        "id": "Mcveko6FhA3W",
        "outputId": "aec41af5-2417-492b-f992-e4ae94f71aa5",
        "colab": {
          "base_uri": "https://localhost:8080/"
        }
      },
      "source": [
        "y_train.shape"
      ],
      "execution_count": 14,
      "outputs": [
        {
          "output_type": "execute_result",
          "data": {
            "text/plain": [
              "(2160, 1)"
            ]
          },
          "metadata": {
            "tags": []
          },
          "execution_count": 14
        }
      ]
    },
    {
      "cell_type": "code",
      "metadata": {
        "id": "IeaO7jBbgFVP",
        "outputId": "75b385bd-63ac-49cd-db18-5721314bdc7e",
        "colab": {
          "base_uri": "https://localhost:8080/"
        }
      },
      "source": [
        "x_train.shape"
      ],
      "execution_count": 15,
      "outputs": [
        {
          "output_type": "execute_result",
          "data": {
            "text/plain": [
              "(2160, 4)"
            ]
          },
          "metadata": {
            "tags": []
          },
          "execution_count": 15
        }
      ]
    },
    {
      "cell_type": "code",
      "metadata": {
        "id": "Cto25041cf6J"
      },
      "source": [
        "x_train = x_train.reshape((2160,-1,4))"
      ],
      "execution_count": 16,
      "outputs": []
    },
    {
      "cell_type": "code",
      "metadata": {
        "id": "EfKS0mTcfhiH",
        "outputId": "f3caf5f2-bd18-49e6-de9c-7b31ec7b049e",
        "colab": {
          "base_uri": "https://localhost:8080/"
        }
      },
      "source": [
        "x_train.ndim"
      ],
      "execution_count": 17,
      "outputs": [
        {
          "output_type": "execute_result",
          "data": {
            "text/plain": [
              "3"
            ]
          },
          "metadata": {
            "tags": []
          },
          "execution_count": 17
        }
      ]
    },
    {
      "cell_type": "code",
      "metadata": {
        "id": "VsXh1aLgVMnT",
        "outputId": "a06cc962-f189-400d-8e28-8df37077adab",
        "colab": {
          "base_uri": "https://localhost:8080/"
        }
      },
      "source": [
        "x_test.shape"
      ],
      "execution_count": 18,
      "outputs": [
        {
          "output_type": "execute_result",
          "data": {
            "text/plain": [
              "(508, 4)"
            ]
          },
          "metadata": {
            "tags": []
          },
          "execution_count": 18
        }
      ]
    },
    {
      "cell_type": "code",
      "metadata": {
        "id": "Oh5ngDLnDo7y"
      },
      "source": [
        "x_test = x_test.reshape((508,-1,4))\n",
        "# y_test = y_test.reshape((509,-1,1))"
      ],
      "execution_count": 19,
      "outputs": []
    },
    {
      "cell_type": "code",
      "metadata": {
        "id": "tCC5p95rjevA",
        "outputId": "5f4122b8-7462-401c-a6ec-d7417414047c",
        "colab": {
          "base_uri": "https://localhost:8080/"
        }
      },
      "source": [
        "x_test.shape,y_test.shape"
      ],
      "execution_count": 20,
      "outputs": [
        {
          "output_type": "execute_result",
          "data": {
            "text/plain": [
              "((508, 1, 4), (508, 1))"
            ]
          },
          "metadata": {
            "tags": []
          },
          "execution_count": 20
        }
      ]
    },
    {
      "cell_type": "code",
      "metadata": {
        "id": "h1-SgRsTQANu"
      },
      "source": [
        "# 모델 구성\n",
        "model = Sequential()\n",
        "\n",
        "# model.add(Dense(units=1024, input_dim=4, activation='relu'))\n",
        "# model.add(Dense(units=512, activation='relu'))\n",
        "# model.add(Dense(units=256, activation='relu'))\n",
        "# model.add(Dense(units=128, activation='relu'))\n",
        "# model.add(Dense(units=64, activation='relu'))\n",
        "# model.add(Dense(units=32, activation='relu'))\n",
        "# model.add(Dense(units=1))\n",
        "\n",
        "model.add(LSTM(\n",
        "    64\n",
        "    ,input_shape=(x_train.shape[1],x_train.shape[2])\n",
        "    ,activation='relu'\n",
        "    ,return_sequences = False\n",
        "    ))\n",
        "# model.add(Dense(32,activation='relu'))\n",
        "# model.add(Dense(16,activation='relu'))\n",
        "# model.add(Dense(8,activation='relu'))\n",
        "model.add(Dense(1))"
      ],
      "execution_count": 21,
      "outputs": []
    },
    {
      "cell_type": "code",
      "metadata": {
        "id": "LKXmGDEkQO4m"
      },
      "source": [
        "model.compile(loss='mean_squared_error',optimizer='adam',metrics=['mae'])"
      ],
      "execution_count": 22,
      "outputs": []
    },
    {
      "cell_type": "code",
      "metadata": {
        "id": "mScN7aK_QaEu",
        "outputId": "281914f1-8483-494d-dd63-f4c60061cb8e",
        "colab": {
          "base_uri": "https://localhost:8080/"
        }
      },
      "source": [
        "from keras.callbacks import EarlyStopping\n",
        "# es = EarlyStopping(patience=1)\n",
        "es = EarlyStopping(monitor='loss',patience=2,verbose=1)\n",
        "hist = model.fit(x_train,y_train,epochs=150,batch_size=16,callbacks=[es],shuffle=False)"
      ],
      "execution_count": 24,
      "outputs": [
        {
          "output_type": "stream",
          "text": [
            "Epoch 1/150\n",
            "135/135 [==============================] - 0s 1ms/step - loss: 0.2393 - mae: 0.4281\n",
            "Epoch 2/150\n",
            "135/135 [==============================] - 0s 1ms/step - loss: 0.0123 - mae: 0.0827\n",
            "Epoch 3/150\n",
            "135/135 [==============================] - 0s 1ms/step - loss: 0.0051 - mae: 0.0504\n",
            "Epoch 4/150\n",
            "135/135 [==============================] - 0s 2ms/step - loss: 0.0045 - mae: 0.0462\n",
            "Epoch 5/150\n",
            "135/135 [==============================] - 0s 2ms/step - loss: 0.0044 - mae: 0.0454\n",
            "Epoch 6/150\n",
            "135/135 [==============================] - 0s 1ms/step - loss: 0.0042 - mae: 0.0444\n",
            "Epoch 7/150\n",
            "135/135 [==============================] - 0s 1ms/step - loss: 0.0042 - mae: 0.0437\n",
            "Epoch 8/150\n",
            "135/135 [==============================] - 0s 1ms/step - loss: 0.0041 - mae: 0.0431\n",
            "Epoch 9/150\n",
            "135/135 [==============================] - 0s 2ms/step - loss: 0.0040 - mae: 0.0428\n",
            "Epoch 10/150\n",
            "135/135 [==============================] - 0s 2ms/step - loss: 0.0040 - mae: 0.0425\n",
            "Epoch 11/150\n",
            "135/135 [==============================] - 0s 1ms/step - loss: 0.0039 - mae: 0.0423\n",
            "Epoch 12/150\n",
            "135/135 [==============================] - 0s 1ms/step - loss: 0.0039 - mae: 0.0421\n",
            "Epoch 13/150\n",
            "135/135 [==============================] - 0s 1ms/step - loss: 0.0039 - mae: 0.0420\n",
            "Epoch 14/150\n",
            "135/135 [==============================] - 0s 2ms/step - loss: 0.0039 - mae: 0.0420\n",
            "Epoch 15/150\n",
            "135/135 [==============================] - 0s 1ms/step - loss: 0.0038 - mae: 0.0419\n",
            "Epoch 16/150\n",
            "135/135 [==============================] - 0s 1ms/step - loss: 0.0038 - mae: 0.0419\n",
            "Epoch 17/150\n",
            "135/135 [==============================] - 0s 1ms/step - loss: 0.0038 - mae: 0.0419\n",
            "Epoch 18/150\n",
            "135/135 [==============================] - 0s 2ms/step - loss: 0.0038 - mae: 0.0421\n",
            "Epoch 19/150\n",
            "135/135 [==============================] - 0s 2ms/step - loss: 0.0038 - mae: 0.0422\n",
            "Epoch 20/150\n",
            "135/135 [==============================] - 0s 1ms/step - loss: 0.0038 - mae: 0.0424\n",
            "Epoch 21/150\n",
            "135/135 [==============================] - 0s 1ms/step - loss: 0.0038 - mae: 0.0426\n",
            "Epoch 00021: early stopping\n"
          ],
          "name": "stdout"
        }
      ]
    },
    {
      "cell_type": "code",
      "metadata": {
        "id": "CQkb3AAHRFCW",
        "outputId": "adc39d78-c62c-497a-aa44-01c41f865c13",
        "colab": {
          "base_uri": "https://localhost:8080/"
        }
      },
      "source": [
        "res = model.evaluate(x_test,y_test,batch_size=16)"
      ],
      "execution_count": 25,
      "outputs": [
        {
          "output_type": "stream",
          "text": [
            "32/32 [==============================] - 0s 1ms/step - loss: 0.7425 - mae: 0.3552\n"
          ],
          "name": "stdout"
        }
      ]
    },
    {
      "cell_type": "code",
      "metadata": {
        "id": "O9xXv72VRNPm"
      },
      "source": [
        "y_hat = model.predict(x_test)"
      ],
      "execution_count": 26,
      "outputs": []
    },
    {
      "cell_type": "code",
      "metadata": {
        "id": "tgcI8k5CFmtC"
      },
      "source": [
        "x_test.shape,y_hat.shape,y_test.shape"
      ],
      "execution_count": null,
      "outputs": []
    },
    {
      "cell_type": "code",
      "metadata": {
        "id": "n-o4NZSKRVQW",
        "outputId": "3fa2a574-2ab8-4253-d37c-5cf7fba6e16e",
        "colab": {
          "base_uri": "https://localhost:8080/",
          "height": 537
        }
      },
      "source": [
        "plt.figure(figsize=(12,9))\n",
        "plt.plot(y_hat, label = \"predicted\")\n",
        "plt.plot(y_test,label = \"actual\")\n",
        "plt.legend()\n",
        "plt.show()"
      ],
      "execution_count": 27,
      "outputs": [
        {
          "output_type": "display_data",
          "data": {
            "image/png": "[encoded data removed]",
            "text/plain": [
              "<Figure size 864x648 with 1 Axes>"
            ]
          },
          "metadata": {
            "tags": [],
            "needs_background": "light"
          }
        }
      ]
    },
    {
      "cell_type": "code",
      "metadata": {
        "id": "ntOkeP2ZRaau"
      },
      "source": [
        "## 그 다음날 종가를 답으로 정해놓고 예측을 하였을때 예측 성능이 많이 떨어지는것을 확인을 할 수가있다"
      ],
      "execution_count": null,
      "outputs": []
    }
  ]
}