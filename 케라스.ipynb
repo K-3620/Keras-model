{
  "nbformat": 4,
  "nbformat_minor": 0,
  "metadata": {
    "colab": {
      "name": "케라스.ipynb",
      "provenance": [],
      "mount_file_id": "1I83SN8KfCRr2U5Pj9A0xZURGIudy1vk-",
      "authorship_tag": "ABX9TyMttDnXLkLxxizM+P1jYHo+",
      "include_colab_link": true
    },
    "kernelspec": {
      "name": "python3",
      "display_name": "Python 3"
    }
  },
  "cells": [
    {
      "cell_type": "markdown",
      "metadata": {
        "id": "view-in-github",
        "colab_type": "text"
      },
      "source": [
        "<a href=\"https://colab.research.google.com/github/K-3620/Keras-model/blob/main/%EC%BC%80%EB%9D%BC%EC%8A%A4.ipynb\" target=\"_parent\"><img src=\"https://colab.research.google.com/assets/colab-badge.svg\" alt=\"Open In Colab\"/></a>"
      ]
    },
    {
      "cell_type": "code",
      "metadata": {
        "id": "APGDvP7vOs-Q"
      },
      "source": [
        "import numpy as np\n",
        "import pandas as pd\n",
        "import seaborn as sns\n",
        "import matplotlib.pyplot as plt\n",
        "%matplotlib inline\n",
        "from sklearn.model_selection import train_test_split\n",
        "\n",
        "from keras.models import Model,Sequential\n",
        "from keras.layers import Input,Dense,LSTM,Bidirectional\n",
        "from keras import backend as K\n",
        "from keras.layers.core import Dense, Activation, Dropout\n",
        "from keras.layers.recurrent import LSTM "
      ],
      "execution_count": 1,
      "outputs": []
    },
    {
      "cell_type": "code",
      "metadata": {
        "id": "V6bXYkVpOwx4",
        "outputId": "73f8dd4f-72ad-47f5-875d-a7bcc1a7f082",
        "colab": {
          "base_uri": "https://localhost:8080/",
          "height": 450
        }
      },
      "source": [
        "data = pd.read_csv('/content/drive/My Drive/데이터수집/2010년부터10년치데이터.csv',index_col=0)\n",
        "data"
      ],
      "execution_count": 2,
      "outputs": [
        {
          "output_type": "execute_result",
          "data": {
            "text/html": [
              "<div>\n",
              "<style scoped>\n",
              "    .dataframe tbody tr th:only-of-type {\n",
              "        vertical-align: middle;\n",
              "    }\n",
              "\n",
              "    .dataframe tbody tr th {\n",
              "        vertical-align: top;\n",
              "    }\n",
              "\n",
              "    .dataframe thead th {\n",
              "        text-align: right;\n",
              "    }\n",
              "</style>\n",
              "<table border=\"1\" class=\"dataframe\">\n",
              "  <thead>\n",
              "    <tr style=\"text-align: right;\">\n",
              "      <th></th>\n",
              "      <th>Open</th>\n",
              "      <th>High</th>\n",
              "      <th>Low</th>\n",
              "      <th>Close</th>\n",
              "      <th>Volume</th>\n",
              "      <th>Change</th>\n",
              "    </tr>\n",
              "    <tr>\n",
              "      <th>Date</th>\n",
              "      <th></th>\n",
              "      <th></th>\n",
              "      <th></th>\n",
              "      <th></th>\n",
              "      <th></th>\n",
              "      <th></th>\n",
              "    </tr>\n",
              "  </thead>\n",
              "  <tbody>\n",
              "    <tr>\n",
              "      <th>2010-01-04</th>\n",
              "      <td>7540</td>\n",
              "      <td>7820</td>\n",
              "      <td>7480</td>\n",
              "      <td>7520</td>\n",
              "      <td>177197</td>\n",
              "      <td>-0.007916</td>\n",
              "    </tr>\n",
              "    <tr>\n",
              "      <th>2010-01-05</th>\n",
              "      <td>7490</td>\n",
              "      <td>7580</td>\n",
              "      <td>7350</td>\n",
              "      <td>7500</td>\n",
              "      <td>214314</td>\n",
              "      <td>-0.002660</td>\n",
              "    </tr>\n",
              "    <tr>\n",
              "      <th>2010-01-06</th>\n",
              "      <td>7500</td>\n",
              "      <td>7500</td>\n",
              "      <td>7320</td>\n",
              "      <td>7350</td>\n",
              "      <td>81874</td>\n",
              "      <td>-0.020000</td>\n",
              "    </tr>\n",
              "    <tr>\n",
              "      <th>2010-01-07</th>\n",
              "      <td>7350</td>\n",
              "      <td>7420</td>\n",
              "      <td>7200</td>\n",
              "      <td>7210</td>\n",
              "      <td>106474</td>\n",
              "      <td>-0.019048</td>\n",
              "    </tr>\n",
              "    <tr>\n",
              "      <th>2010-01-08</th>\n",
              "      <td>7220</td>\n",
              "      <td>7330</td>\n",
              "      <td>7220</td>\n",
              "      <td>7240</td>\n",
              "      <td>61393</td>\n",
              "      <td>0.004161</td>\n",
              "    </tr>\n",
              "    <tr>\n",
              "      <th>...</th>\n",
              "      <td>...</td>\n",
              "      <td>...</td>\n",
              "      <td>...</td>\n",
              "      <td>...</td>\n",
              "      <td>...</td>\n",
              "      <td>...</td>\n",
              "    </tr>\n",
              "    <tr>\n",
              "      <th>2020-10-21</th>\n",
              "      <td>20200</td>\n",
              "      <td>20500</td>\n",
              "      <td>19850</td>\n",
              "      <td>20100</td>\n",
              "      <td>402212</td>\n",
              "      <td>-0.009852</td>\n",
              "    </tr>\n",
              "    <tr>\n",
              "      <th>2020-10-22</th>\n",
              "      <td>19850</td>\n",
              "      <td>20050</td>\n",
              "      <td>19000</td>\n",
              "      <td>19200</td>\n",
              "      <td>620779</td>\n",
              "      <td>-0.044776</td>\n",
              "    </tr>\n",
              "    <tr>\n",
              "      <th>2020-10-23</th>\n",
              "      <td>19500</td>\n",
              "      <td>20600</td>\n",
              "      <td>19350</td>\n",
              "      <td>19800</td>\n",
              "      <td>567794</td>\n",
              "      <td>0.031250</td>\n",
              "    </tr>\n",
              "    <tr>\n",
              "      <th>2020-10-26</th>\n",
              "      <td>19500</td>\n",
              "      <td>19750</td>\n",
              "      <td>17000</td>\n",
              "      <td>17100</td>\n",
              "      <td>1338181</td>\n",
              "      <td>-0.136364</td>\n",
              "    </tr>\n",
              "    <tr>\n",
              "      <th>2020-10-27</th>\n",
              "      <td>16850</td>\n",
              "      <td>18150</td>\n",
              "      <td>15900</td>\n",
              "      <td>17500</td>\n",
              "      <td>854079</td>\n",
              "      <td>0.023392</td>\n",
              "    </tr>\n",
              "  </tbody>\n",
              "</table>\n",
              "<p>2669 rows × 6 columns</p>\n",
              "</div>"
            ],
            "text/plain": [
              "             Open   High    Low  Close   Volume    Change\n",
              "Date                                                     \n",
              "2010-01-04   7540   7820   7480   7520   177197 -0.007916\n",
              "2010-01-05   7490   7580   7350   7500   214314 -0.002660\n",
              "2010-01-06   7500   7500   7320   7350    81874 -0.020000\n",
              "2010-01-07   7350   7420   7200   7210   106474 -0.019048\n",
              "2010-01-08   7220   7330   7220   7240    61393  0.004161\n",
              "...           ...    ...    ...    ...      ...       ...\n",
              "2020-10-21  20200  20500  19850  20100   402212 -0.009852\n",
              "2020-10-22  19850  20050  19000  19200   620779 -0.044776\n",
              "2020-10-23  19500  20600  19350  19800   567794  0.031250\n",
              "2020-10-26  19500  19750  17000  17100  1338181 -0.136364\n",
              "2020-10-27  16850  18150  15900  17500   854079  0.023392\n",
              "\n",
              "[2669 rows x 6 columns]"
            ]
          },
          "metadata": {
            "tags": []
          },
          "execution_count": 2
        }
      ]
    },
    {
      "cell_type": "code",
      "metadata": {
        "id": "hCc8jUvRSJcW"
      },
      "source": [
        "target = data['Close']"
      ],
      "execution_count": 3,
      "outputs": []
    },
    {
      "cell_type": "code",
      "metadata": {
        "id": "MOa5Nve-TOJW",
        "outputId": "6b606e40-6e27-4c12-d3c9-d5a85c17cb91",
        "colab": {
          "base_uri": "https://localhost:8080/"
        }
      },
      "source": [
        "list(target.values)[-1]"
      ],
      "execution_count": 4,
      "outputs": [
        {
          "output_type": "execute_result",
          "data": {
            "text/plain": [
              "17500"
            ]
          },
          "metadata": {
            "tags": []
          },
          "execution_count": 4
        }
      ]
    },
    {
      "cell_type": "code",
      "metadata": {
        "id": "REc6UFPtStEm",
        "outputId": "4e88dd63-b264-4b93-e84b-524011f8b954",
        "colab": {
          "base_uri": "https://localhost:8080/"
        }
      },
      "source": [
        "aa=[]\n",
        "\n",
        "aa.extend(list(target.values[1:-1]))\n",
        "aa.append('17500')\n",
        "aa.append('0')\n",
        "len(aa)"
      ],
      "execution_count": 5,
      "outputs": [
        {
          "output_type": "execute_result",
          "data": {
            "text/plain": [
              "2669"
            ]
          },
          "metadata": {
            "tags": []
          },
          "execution_count": 5
        }
      ]
    },
    {
      "cell_type": "code",
      "metadata": {
        "id": "5u5VT3BqUkL3",
        "outputId": "3db8b64d-ada3-4eb2-e07c-2969f9c7c057",
        "colab": {
          "base_uri": "https://localhost:8080/"
        }
      },
      "source": [
        "len(target.values[1:-1])"
      ],
      "execution_count": 6,
      "outputs": [
        {
          "output_type": "execute_result",
          "data": {
            "text/plain": [
              "2667"
            ]
          },
          "metadata": {
            "tags": []
          },
          "execution_count": 6
        }
      ]
    },
    {
      "cell_type": "code",
      "metadata": {
        "id": "l7305nlLR-kG",
        "outputId": "bbf71c1d-c84f-46ea-c5f4-c82b734b2a3e",
        "colab": {
          "base_uri": "https://localhost:8080/",
          "height": 450
        }
      },
      "source": [
        "from pandas import Series\n",
        "\n",
        "y_target= pd.DataFrame(data=aa,index=target.index,columns=['Close'])\n",
        "y_target  # 그 다음날 종가"
      ],
      "execution_count": 7,
      "outputs": [
        {
          "output_type": "execute_result",
          "data": {
            "text/html": [
              "<div>\n",
              "<style scoped>\n",
              "    .dataframe tbody tr th:only-of-type {\n",
              "        vertical-align: middle;\n",
              "    }\n",
              "\n",
              "    .dataframe tbody tr th {\n",
              "        vertical-align: top;\n",
              "    }\n",
              "\n",
              "    .dataframe thead th {\n",
              "        text-align: right;\n",
              "    }\n",
              "</style>\n",
              "<table border=\"1\" class=\"dataframe\">\n",
              "  <thead>\n",
              "    <tr style=\"text-align: right;\">\n",
              "      <th></th>\n",
              "      <th>Close</th>\n",
              "    </tr>\n",
              "    <tr>\n",
              "      <th>Date</th>\n",
              "      <th></th>\n",
              "    </tr>\n",
              "  </thead>\n",
              "  <tbody>\n",
              "    <tr>\n",
              "      <th>2010-01-04</th>\n",
              "      <td>7500</td>\n",
              "    </tr>\n",
              "    <tr>\n",
              "      <th>2010-01-05</th>\n",
              "      <td>7350</td>\n",
              "    </tr>\n",
              "    <tr>\n",
              "      <th>2010-01-06</th>\n",
              "      <td>7210</td>\n",
              "    </tr>\n",
              "    <tr>\n",
              "      <th>2010-01-07</th>\n",
              "      <td>7240</td>\n",
              "    </tr>\n",
              "    <tr>\n",
              "      <th>2010-01-08</th>\n",
              "      <td>7100</td>\n",
              "    </tr>\n",
              "    <tr>\n",
              "      <th>...</th>\n",
              "      <td>...</td>\n",
              "    </tr>\n",
              "    <tr>\n",
              "      <th>2020-10-21</th>\n",
              "      <td>19200</td>\n",
              "    </tr>\n",
              "    <tr>\n",
              "      <th>2020-10-22</th>\n",
              "      <td>19800</td>\n",
              "    </tr>\n",
              "    <tr>\n",
              "      <th>2020-10-23</th>\n",
              "      <td>17100</td>\n",
              "    </tr>\n",
              "    <tr>\n",
              "      <th>2020-10-26</th>\n",
              "      <td>17500</td>\n",
              "    </tr>\n",
              "    <tr>\n",
              "      <th>2020-10-27</th>\n",
              "      <td>0</td>\n",
              "    </tr>\n",
              "  </tbody>\n",
              "</table>\n",
              "<p>2669 rows × 1 columns</p>\n",
              "</div>"
            ],
            "text/plain": [
              "            Close\n",
              "Date             \n",
              "2010-01-04   7500\n",
              "2010-01-05   7350\n",
              "2010-01-06   7210\n",
              "2010-01-07   7240\n",
              "2010-01-08   7100\n",
              "...           ...\n",
              "2020-10-21  19200\n",
              "2020-10-22  19800\n",
              "2020-10-23  17100\n",
              "2020-10-26  17500\n",
              "2020-10-27      0\n",
              "\n",
              "[2669 rows x 1 columns]"
            ]
          },
          "metadata": {
            "tags": []
          },
          "execution_count": 7
        }
      ]
    },
    {
      "cell_type": "code",
      "metadata": {
        "id": "kwzHJDWSO9VP"
      },
      "source": [
        "x_data = data[['Open','High','Low','Volume']] # 학습\n",
        "y_data = y_target # 답"
      ],
      "execution_count": 8,
      "outputs": []
    },
    {
      "cell_type": "code",
      "metadata": {
        "id": "wOKKfMi3PTLe"
      },
      "source": [
        "# 데이터 표준화\n",
        "from sklearn.preprocessing import StandardScaler\n",
        "\n",
        "x_datas = StandardScaler().fit_transform(x_data)\n",
        "y_datas = StandardScaler().fit_transform(y_data)"
      ],
      "execution_count": 9,
      "outputs": []
    },
    {
      "cell_type": "code",
      "metadata": {
        "id": "-1S4GtrkPpDN"
      },
      "source": [
        "# 데이터 분리하기\n",
        "x_train = x_datas[:2160]\n",
        "x_test = x_datas[2160:]\n",
        "\n",
        "y_train = y_datas[:2160]\n",
        "y_test = y_datas[2160:]"
      ],
      "execution_count": 10,
      "outputs": []
    },
    {
      "cell_type": "code",
      "metadata": {
        "id": "Mcveko6FhA3W",
        "outputId": "54eea042-0e71-486a-e3b6-6426099c8d4c",
        "colab": {
          "base_uri": "https://localhost:8080/"
        }
      },
      "source": [
        "y_train.shape"
      ],
      "execution_count": 11,
      "outputs": [
        {
          "output_type": "execute_result",
          "data": {
            "text/plain": [
              "(2160, 1)"
            ]
          },
          "metadata": {
            "tags": []
          },
          "execution_count": 11
        }
      ]
    },
    {
      "cell_type": "code",
      "metadata": {
        "id": "IeaO7jBbgFVP",
        "outputId": "3f6d29ae-1e82-4349-984a-6f304ca2bd91",
        "colab": {
          "base_uri": "https://localhost:8080/"
        }
      },
      "source": [
        "x_train.shape"
      ],
      "execution_count": 12,
      "outputs": [
        {
          "output_type": "execute_result",
          "data": {
            "text/plain": [
              "(2160, 4)"
            ]
          },
          "metadata": {
            "tags": []
          },
          "execution_count": 12
        }
      ]
    },
    {
      "cell_type": "code",
      "metadata": {
        "id": "Cto25041cf6J"
      },
      "source": [
        "x_train = x_train.reshape((2160,-1,4))"
      ],
      "execution_count": 13,
      "outputs": []
    },
    {
      "cell_type": "code",
      "metadata": {
        "id": "EfKS0mTcfhiH",
        "outputId": "b734d56d-ceba-40de-81e2-853a7d3e2763",
        "colab": {
          "base_uri": "https://localhost:8080/"
        }
      },
      "source": [
        "x_train.ndim"
      ],
      "execution_count": 14,
      "outputs": [
        {
          "output_type": "execute_result",
          "data": {
            "text/plain": [
              "3"
            ]
          },
          "metadata": {
            "tags": []
          },
          "execution_count": 14
        }
      ]
    },
    {
      "cell_type": "code",
      "metadata": {
        "id": "Oh5ngDLnDo7y"
      },
      "source": [
        "x_test = x_test.reshape((509,-1,4))\n",
        "# y_test = y_test.reshape((509,-1,1))"
      ],
      "execution_count": 15,
      "outputs": []
    },
    {
      "cell_type": "code",
      "metadata": {
        "id": "tCC5p95rjevA",
        "outputId": "1e4d82a4-46fd-46a5-a742-5aa212a7b1d9",
        "colab": {
          "base_uri": "https://localhost:8080/"
        }
      },
      "source": [
        "x_test.shape,y_test.shape"
      ],
      "execution_count": 16,
      "outputs": [
        {
          "output_type": "execute_result",
          "data": {
            "text/plain": [
              "((509, 1, 4), (509, 1))"
            ]
          },
          "metadata": {
            "tags": []
          },
          "execution_count": 16
        }
      ]
    },
    {
      "cell_type": "code",
      "metadata": {
        "id": "h1-SgRsTQANu"
      },
      "source": [
        "# 모델 구성\n",
        "model = Sequential()\n",
        "\n",
        "# model.add(Dense(units=1024, input_dim=4, activation='relu'))\n",
        "# model.add(Dense(units=512, activation='relu'))\n",
        "# model.add(Dense(units=256, activation='relu'))\n",
        "# model.add(Dense(units=128, activation='relu'))\n",
        "# model.add(Dense(units=64, activation='relu'))\n",
        "# model.add(Dense(units=32, activation='relu'))\n",
        "# model.add(Dense(units=1))\n",
        "\n",
        "model.add(LSTM(64,input_shape=(x_train.shape[1],x_train.shape[2])))\n",
        "model.add(Dense(32,activation='relu'))\n",
        "model.add(Dense(16,activation='relu'))\n",
        "model.add(Dense(8,activation='relu'))\n",
        "model.add(Dense(1))"
      ],
      "execution_count": 63,
      "outputs": []
    },
    {
      "cell_type": "code",
      "metadata": {
        "id": "LKXmGDEkQO4m"
      },
      "source": [
        "model.compile(loss='mean_squared_error',optimizer='adam',metrics=['mae'])"
      ],
      "execution_count": 64,
      "outputs": []
    },
    {
      "cell_type": "code",
      "metadata": {
        "id": "mScN7aK_QaEu",
        "outputId": "f23d548c-0914-4468-dead-3c1b273a146f",
        "colab": {
          "base_uri": "https://localhost:8080/"
        }
      },
      "source": [
        "from keras.callbacks import EarlyStopping\n",
        "es = EarlyStopping(patience=1)\n",
        "\n",
        "hist = model.fit(x_train,y_train,epochs=100,batch_size=16,callbacks=[es])"
      ],
      "execution_count": 65,
      "outputs": [
        {
          "output_type": "stream",
          "text": [
            "Epoch 1/100\n",
            "108/135 [=======================>......] - ETA: 0s - loss: 0.1663 - mae: 0.2979WARNING:tensorflow:Early stopping conditioned on metric `val_loss` which is not available. Available metrics are: loss,mae\n",
            "135/135 [==============================] - 0s 2ms/step - loss: 0.1345 - mae: 0.2517\n",
            "Epoch 2/100\n",
            "119/135 [=========================>....] - ETA: 0s - loss: 0.0053 - mae: 0.0525WARNING:tensorflow:Early stopping conditioned on metric `val_loss` which is not available. Available metrics are: loss,mae\n",
            "135/135 [==============================] - 0s 2ms/step - loss: 0.0051 - mae: 0.0516\n",
            "Epoch 3/100\n",
            "122/135 [==========================>...] - ETA: 0s - loss: 0.0039 - mae: 0.0418WARNING:tensorflow:Early stopping conditioned on metric `val_loss` which is not available. Available metrics are: loss,mae\n",
            "135/135 [==============================] - 0s 2ms/step - loss: 0.0038 - mae: 0.0417\n",
            "Epoch 4/100\n",
            "119/135 [=========================>....] - ETA: 0s - loss: 0.0039 - mae: 0.0413WARNING:tensorflow:Early stopping conditioned on metric `val_loss` which is not available. Available metrics are: loss,mae\n",
            "135/135 [==============================] - 0s 2ms/step - loss: 0.0039 - mae: 0.0413\n",
            "Epoch 5/100\n",
            "115/135 [========================>.....] - ETA: 0s - loss: 0.0037 - mae: 0.0416WARNING:tensorflow:Early stopping conditioned on metric `val_loss` which is not available. Available metrics are: loss,mae\n",
            "135/135 [==============================] - 0s 2ms/step - loss: 0.0037 - mae: 0.0412\n",
            "Epoch 6/100\n",
            "118/135 [=========================>....] - ETA: 0s - loss: 0.0036 - mae: 0.0405WARNING:tensorflow:Early stopping conditioned on metric `val_loss` which is not available. Available metrics are: loss,mae\n",
            "135/135 [==============================] - 0s 2ms/step - loss: 0.0036 - mae: 0.0405\n",
            "Epoch 7/100\n",
            "116/135 [========================>.....] - ETA: 0s - loss: 0.0037 - mae: 0.0404WARNING:tensorflow:Early stopping conditioned on metric `val_loss` which is not available. Available metrics are: loss,mae\n",
            "135/135 [==============================] - 0s 2ms/step - loss: 0.0036 - mae: 0.0400\n",
            "Epoch 8/100\n",
            "119/135 [=========================>....] - ETA: 0s - loss: 0.0037 - mae: 0.0421WARNING:tensorflow:Early stopping conditioned on metric `val_loss` which is not available. Available metrics are: loss,mae\n",
            "135/135 [==============================] - 0s 2ms/step - loss: 0.0038 - mae: 0.0421\n",
            "Epoch 9/100\n",
            "116/135 [========================>.....] - ETA: 0s - loss: 0.0036 - mae: 0.0409WARNING:tensorflow:Early stopping conditioned on metric `val_loss` which is not available. Available metrics are: loss,mae\n",
            "135/135 [==============================] - 0s 2ms/step - loss: 0.0035 - mae: 0.0406\n",
            "Epoch 10/100\n",
            "111/135 [=======================>......] - ETA: 0s - loss: 0.0034 - mae: 0.0395WARNING:tensorflow:Early stopping conditioned on metric `val_loss` which is not available. Available metrics are: loss,mae\n",
            "135/135 [==============================] - 0s 2ms/step - loss: 0.0035 - mae: 0.0398\n",
            "Epoch 11/100\n",
            "110/135 [=======================>......] - ETA: 0s - loss: 0.0034 - mae: 0.0391WARNING:tensorflow:Early stopping conditioned on metric `val_loss` which is not available. Available metrics are: loss,mae\n",
            "135/135 [==============================] - 0s 2ms/step - loss: 0.0034 - mae: 0.0393\n",
            "Epoch 12/100\n",
            "118/135 [=========================>....] - ETA: 0s - loss: 0.0034 - mae: 0.0393WARNING:tensorflow:Early stopping conditioned on metric `val_loss` which is not available. Available metrics are: loss,mae\n",
            "135/135 [==============================] - 0s 2ms/step - loss: 0.0034 - mae: 0.0398\n",
            "Epoch 13/100\n",
            "114/135 [========================>.....] - ETA: 0s - loss: 0.0035 - mae: 0.0407WARNING:tensorflow:Early stopping conditioned on metric `val_loss` which is not available. Available metrics are: loss,mae\n",
            "135/135 [==============================] - 0s 2ms/step - loss: 0.0035 - mae: 0.0407\n",
            "Epoch 14/100\n",
            "111/135 [=======================>......] - ETA: 0s - loss: 0.0032 - mae: 0.0382WARNING:tensorflow:Early stopping conditioned on metric `val_loss` which is not available. Available metrics are: loss,mae\n",
            "135/135 [==============================] - 0s 2ms/step - loss: 0.0033 - mae: 0.0389\n",
            "Epoch 15/100\n",
            "117/135 [=========================>....] - ETA: 0s - loss: 0.0034 - mae: 0.0387WARNING:tensorflow:Early stopping conditioned on metric `val_loss` which is not available. Available metrics are: loss,mae\n",
            "135/135 [==============================] - 0s 2ms/step - loss: 0.0033 - mae: 0.0386\n",
            "Epoch 16/100\n",
            "117/135 [=========================>....] - ETA: 0s - loss: 0.0034 - mae: 0.0406WARNING:tensorflow:Early stopping conditioned on metric `val_loss` which is not available. Available metrics are: loss,mae\n",
            "135/135 [==============================] - 0s 2ms/step - loss: 0.0035 - mae: 0.0404\n",
            "Epoch 17/100\n",
            "115/135 [========================>.....] - ETA: 0s - loss: 0.0035 - mae: 0.0400WARNING:tensorflow:Early stopping conditioned on metric `val_loss` which is not available. Available metrics are: loss,mae\n",
            "135/135 [==============================] - 0s 2ms/step - loss: 0.0034 - mae: 0.0400\n",
            "Epoch 18/100\n",
            "118/135 [=========================>....] - ETA: 0s - loss: 0.0034 - mae: 0.0383WARNING:tensorflow:Early stopping conditioned on metric `val_loss` which is not available. Available metrics are: loss,mae\n",
            "135/135 [==============================] - 0s 2ms/step - loss: 0.0033 - mae: 0.0385\n",
            "Epoch 19/100\n",
            "123/135 [==========================>...] - ETA: 0s - loss: 0.0034 - mae: 0.0393WARNING:tensorflow:Early stopping conditioned on metric `val_loss` which is not available. Available metrics are: loss,mae\n",
            "135/135 [==============================] - 0s 2ms/step - loss: 0.0034 - mae: 0.0395\n",
            "Epoch 20/100\n",
            "113/135 [========================>.....] - ETA: 0s - loss: 0.0034 - mae: 0.0389WARNING:tensorflow:Early stopping conditioned on metric `val_loss` which is not available. Available metrics are: loss,mae\n",
            "135/135 [==============================] - 0s 2ms/step - loss: 0.0033 - mae: 0.0388\n",
            "Epoch 21/100\n",
            "115/135 [========================>.....] - ETA: 0s - loss: 0.0032 - mae: 0.0388WARNING:tensorflow:Early stopping conditioned on metric `val_loss` which is not available. Available metrics are: loss,mae\n",
            "135/135 [==============================] - 0s 2ms/step - loss: 0.0033 - mae: 0.0391\n",
            "Epoch 22/100\n",
            "131/135 [============================>.] - ETA: 0s - loss: 0.0032 - mae: 0.0376WARNING:tensorflow:Early stopping conditioned on metric `val_loss` which is not available. Available metrics are: loss,mae\n",
            "135/135 [==============================] - 0s 2ms/step - loss: 0.0032 - mae: 0.0379\n",
            "Epoch 23/100\n",
            "112/135 [=======================>......] - ETA: 0s - loss: 0.0035 - mae: 0.0395WARNING:tensorflow:Early stopping conditioned on metric `val_loss` which is not available. Available metrics are: loss,mae\n",
            "135/135 [==============================] - 0s 2ms/step - loss: 0.0034 - mae: 0.0394\n",
            "Epoch 24/100\n",
            "113/135 [========================>.....] - ETA: 0s - loss: 0.0032 - mae: 0.0384WARNING:tensorflow:Early stopping conditioned on metric `val_loss` which is not available. Available metrics are: loss,mae\n",
            "135/135 [==============================] - 0s 2ms/step - loss: 0.0033 - mae: 0.0384\n",
            "Epoch 25/100\n",
            "119/135 [=========================>....] - ETA: 0s - loss: 0.0033 - mae: 0.0381WARNING:tensorflow:Early stopping conditioned on metric `val_loss` which is not available. Available metrics are: loss,mae\n",
            "135/135 [==============================] - 0s 2ms/step - loss: 0.0032 - mae: 0.0381\n",
            "Epoch 26/100\n",
            "109/135 [=======================>......] - ETA: 0s - loss: 0.0032 - mae: 0.0382WARNING:tensorflow:Early stopping conditioned on metric `val_loss` which is not available. Available metrics are: loss,mae\n",
            "135/135 [==============================] - 0s 2ms/step - loss: 0.0033 - mae: 0.0388\n",
            "Epoch 27/100\n",
            "117/135 [=========================>....] - ETA: 0s - loss: 0.0032 - mae: 0.0381WARNING:tensorflow:Early stopping conditioned on metric `val_loss` which is not available. Available metrics are: loss,mae\n",
            "135/135 [==============================] - 0s 2ms/step - loss: 0.0033 - mae: 0.0386\n",
            "Epoch 28/100\n",
            "111/135 [=======================>......] - ETA: 0s - loss: 0.0033 - mae: 0.0385WARNING:tensorflow:Early stopping conditioned on metric `val_loss` which is not available. Available metrics are: loss,mae\n",
            "135/135 [==============================] - 0s 2ms/step - loss: 0.0032 - mae: 0.0387\n",
            "Epoch 29/100\n",
            "134/135 [============================>.] - ETA: 0s - loss: 0.0033 - mae: 0.0391WARNING:tensorflow:Early stopping conditioned on metric `val_loss` which is not available. Available metrics are: loss,mae\n",
            "135/135 [==============================] - 0s 2ms/step - loss: 0.0033 - mae: 0.0391\n",
            "Epoch 30/100\n",
            "114/135 [========================>.....] - ETA: 0s - loss: 0.0032 - mae: 0.0379WARNING:tensorflow:Early stopping conditioned on metric `val_loss` which is not available. Available metrics are: loss,mae\n",
            "135/135 [==============================] - 0s 2ms/step - loss: 0.0032 - mae: 0.0379\n",
            "Epoch 31/100\n",
            "112/135 [=======================>......] - ETA: 0s - loss: 0.0033 - mae: 0.0388WARNING:tensorflow:Early stopping conditioned on metric `val_loss` which is not available. Available metrics are: loss,mae\n",
            "135/135 [==============================] - 0s 2ms/step - loss: 0.0033 - mae: 0.0386\n",
            "Epoch 32/100\n",
            "130/135 [===========================>..] - ETA: 0s - loss: 0.0033 - mae: 0.0386WARNING:tensorflow:Early stopping conditioned on metric `val_loss` which is not available. Available metrics are: loss,mae\n",
            "135/135 [==============================] - 0s 2ms/step - loss: 0.0033 - mae: 0.0385\n",
            "Epoch 33/100\n",
            "116/135 [========================>.....] - ETA: 0s - loss: 0.0032 - mae: 0.0381WARNING:tensorflow:Early stopping conditioned on metric `val_loss` which is not available. Available metrics are: loss,mae\n",
            "135/135 [==============================] - 0s 2ms/step - loss: 0.0032 - mae: 0.0383\n",
            "Epoch 34/100\n",
            "115/135 [========================>.....] - ETA: 0s - loss: 0.0033 - mae: 0.0382WARNING:tensorflow:Early stopping conditioned on metric `val_loss` which is not available. Available metrics are: loss,mae\n",
            "135/135 [==============================] - 0s 2ms/step - loss: 0.0032 - mae: 0.0380\n",
            "Epoch 35/100\n",
            "129/135 [===========================>..] - ETA: 0s - loss: 0.0033 - mae: 0.0385WARNING:tensorflow:Early stopping conditioned on metric `val_loss` which is not available. Available metrics are: loss,mae\n",
            "135/135 [==============================] - 0s 2ms/step - loss: 0.0032 - mae: 0.0385\n",
            "Epoch 36/100\n",
            "115/135 [========================>.....] - ETA: 0s - loss: 0.0032 - mae: 0.0387WARNING:tensorflow:Early stopping conditioned on metric `val_loss` which is not available. Available metrics are: loss,mae\n",
            "135/135 [==============================] - 0s 2ms/step - loss: 0.0033 - mae: 0.0385\n",
            "Epoch 37/100\n",
            "110/135 [=======================>......] - ETA: 0s - loss: 0.0034 - mae: 0.0382WARNING:tensorflow:Early stopping conditioned on metric `val_loss` which is not available. Available metrics are: loss,mae\n",
            "135/135 [==============================] - 0s 2ms/step - loss: 0.0032 - mae: 0.0381\n",
            "Epoch 38/100\n",
            "116/135 [========================>.....] - ETA: 0s - loss: 0.0030 - mae: 0.0373WARNING:tensorflow:Early stopping conditioned on metric `val_loss` which is not available. Available metrics are: loss,mae\n",
            "135/135 [==============================] - 0s 2ms/step - loss: 0.0031 - mae: 0.0374\n",
            "Epoch 39/100\n",
            "108/135 [=======================>......] - ETA: 0s - loss: 0.0032 - mae: 0.0377WARNING:tensorflow:Early stopping conditioned on metric `val_loss` which is not available. Available metrics are: loss,mae\n",
            "135/135 [==============================] - 0s 2ms/step - loss: 0.0032 - mae: 0.0375\n",
            "Epoch 40/100\n",
            "117/135 [=========================>....] - ETA: 0s - loss: 0.0031 - mae: 0.0376WARNING:tensorflow:Early stopping conditioned on metric `val_loss` which is not available. Available metrics are: loss,mae\n",
            "135/135 [==============================] - 0s 2ms/step - loss: 0.0032 - mae: 0.0378\n",
            "Epoch 41/100\n",
            "117/135 [=========================>....] - ETA: 0s - loss: 0.0031 - mae: 0.0383WARNING:tensorflow:Early stopping conditioned on metric `val_loss` which is not available. Available metrics are: loss,mae\n",
            "135/135 [==============================] - 0s 2ms/step - loss: 0.0032 - mae: 0.0383\n",
            "Epoch 42/100\n",
            "114/135 [========================>.....] - ETA: 0s - loss: 0.0032 - mae: 0.0382WARNING:tensorflow:Early stopping conditioned on metric `val_loss` which is not available. Available metrics are: loss,mae\n",
            "135/135 [==============================] - 0s 2ms/step - loss: 0.0032 - mae: 0.0383\n",
            "Epoch 43/100\n",
            "113/135 [========================>.....] - ETA: 0s - loss: 0.0031 - mae: 0.0382WARNING:tensorflow:Early stopping conditioned on metric `val_loss` which is not available. Available metrics are: loss,mae\n",
            "135/135 [==============================] - 0s 2ms/step - loss: 0.0032 - mae: 0.0383\n",
            "Epoch 44/100\n",
            "115/135 [========================>.....] - ETA: 0s - loss: 0.0028 - mae: 0.0361WARNING:tensorflow:Early stopping conditioned on metric `val_loss` which is not available. Available metrics are: loss,mae\n",
            "135/135 [==============================] - 0s 2ms/step - loss: 0.0030 - mae: 0.0369\n",
            "Epoch 45/100\n",
            "109/135 [=======================>......] - ETA: 0s - loss: 0.0031 - mae: 0.0370WARNING:tensorflow:Early stopping conditioned on metric `val_loss` which is not available. Available metrics are: loss,mae\n",
            "135/135 [==============================] - 0s 2ms/step - loss: 0.0031 - mae: 0.0375\n",
            "Epoch 46/100\n",
            "116/135 [========================>.....] - ETA: 0s - loss: 0.0032 - mae: 0.0391WARNING:tensorflow:Early stopping conditioned on metric `val_loss` which is not available. Available metrics are: loss,mae\n",
            "135/135 [==============================] - 0s 2ms/step - loss: 0.0031 - mae: 0.0383\n",
            "Epoch 47/100\n",
            "110/135 [=======================>......] - ETA: 0s - loss: 0.0029 - mae: 0.0366WARNING:tensorflow:Early stopping conditioned on metric `val_loss` which is not available. Available metrics are: loss,mae\n",
            "135/135 [==============================] - 0s 2ms/step - loss: 0.0031 - mae: 0.0373\n",
            "Epoch 48/100\n",
            "113/135 [========================>.....] - ETA: 0s - loss: 0.0030 - mae: 0.0370WARNING:tensorflow:Early stopping conditioned on metric `val_loss` which is not available. Available metrics are: loss,mae\n",
            "135/135 [==============================] - 0s 2ms/step - loss: 0.0031 - mae: 0.0373\n",
            "Epoch 49/100\n",
            "112/135 [=======================>......] - ETA: 0s - loss: 0.0032 - mae: 0.0382WARNING:tensorflow:Early stopping conditioned on metric `val_loss` which is not available. Available metrics are: loss,mae\n",
            "135/135 [==============================] - 0s 2ms/step - loss: 0.0031 - mae: 0.0383\n",
            "Epoch 50/100\n",
            "111/135 [=======================>......] - ETA: 0s - loss: 0.0031 - mae: 0.0377WARNING:tensorflow:Early stopping conditioned on metric `val_loss` which is not available. Available metrics are: loss,mae\n",
            "135/135 [==============================] - 0s 2ms/step - loss: 0.0031 - mae: 0.0376\n",
            "Epoch 51/100\n",
            "117/135 [=========================>....] - ETA: 0s - loss: 0.0033 - mae: 0.0385WARNING:tensorflow:Early stopping conditioned on metric `val_loss` which is not available. Available metrics are: loss,mae\n",
            "135/135 [==============================] - 0s 2ms/step - loss: 0.0032 - mae: 0.0383\n",
            "Epoch 52/100\n",
            "112/135 [=======================>......] - ETA: 0s - loss: 0.0033 - mae: 0.0387WARNING:tensorflow:Early stopping conditioned on metric `val_loss` which is not available. Available metrics are: loss,mae\n",
            "135/135 [==============================] - 0s 2ms/step - loss: 0.0032 - mae: 0.0381\n",
            "Epoch 53/100\n",
            "135/135 [==============================] - ETA: 0s - loss: 0.0031 - mae: 0.0375WARNING:tensorflow:Early stopping conditioned on metric `val_loss` which is not available. Available metrics are: loss,mae\n",
            "135/135 [==============================] - 0s 2ms/step - loss: 0.0031 - mae: 0.0375\n",
            "Epoch 54/100\n",
            "133/135 [============================>.] - ETA: 0s - loss: 0.0029 - mae: 0.0371WARNING:tensorflow:Early stopping conditioned on metric `val_loss` which is not available. Available metrics are: loss,mae\n",
            "135/135 [==============================] - 0s 2ms/step - loss: 0.0030 - mae: 0.0373\n",
            "Epoch 55/100\n",
            "115/135 [========================>.....] - ETA: 0s - loss: 0.0031 - mae: 0.0370WARNING:tensorflow:Early stopping conditioned on metric `val_loss` which is not available. Available metrics are: loss,mae\n",
            "135/135 [==============================] - 0s 2ms/step - loss: 0.0030 - mae: 0.0368\n",
            "Epoch 56/100\n",
            "110/135 [=======================>......] - ETA: 0s - loss: 0.0033 - mae: 0.0390WARNING:tensorflow:Early stopping conditioned on metric `val_loss` which is not available. Available metrics are: loss,mae\n",
            "135/135 [==============================] - 0s 2ms/step - loss: 0.0032 - mae: 0.0381\n",
            "Epoch 57/100\n",
            "129/135 [===========================>..] - ETA: 0s - loss: 0.0030 - mae: 0.0363WARNING:tensorflow:Early stopping conditioned on metric `val_loss` which is not available. Available metrics are: loss,mae\n",
            "135/135 [==============================] - 0s 2ms/step - loss: 0.0030 - mae: 0.0364\n",
            "Epoch 58/100\n",
            "133/135 [============================>.] - ETA: 0s - loss: 0.0031 - mae: 0.0374WARNING:tensorflow:Early stopping conditioned on metric `val_loss` which is not available. Available metrics are: loss,mae\n",
            "135/135 [==============================] - 0s 2ms/step - loss: 0.0031 - mae: 0.0377\n",
            "Epoch 59/100\n",
            "112/135 [=======================>......] - ETA: 0s - loss: 0.0032 - mae: 0.0378WARNING:tensorflow:Early stopping conditioned on metric `val_loss` which is not available. Available metrics are: loss,mae\n",
            "135/135 [==============================] - 0s 2ms/step - loss: 0.0031 - mae: 0.0377\n",
            "Epoch 60/100\n",
            "135/135 [==============================] - ETA: 0s - loss: 0.0032 - mae: 0.0381WARNING:tensorflow:Early stopping conditioned on metric `val_loss` which is not available. Available metrics are: loss,mae\n",
            "135/135 [==============================] - 0s 2ms/step - loss: 0.0032 - mae: 0.0381\n",
            "Epoch 61/100\n",
            "108/135 [=======================>......] - ETA: 0s - loss: 0.0030 - mae: 0.0370WARNING:tensorflow:Early stopping conditioned on metric `val_loss` which is not available. Available metrics are: loss,mae\n",
            "135/135 [==============================] - 0s 2ms/step - loss: 0.0030 - mae: 0.0365\n",
            "Epoch 62/100\n",
            "125/135 [==========================>...] - ETA: 0s - loss: 0.0030 - mae: 0.0366WARNING:tensorflow:Early stopping conditioned on metric `val_loss` which is not available. Available metrics are: loss,mae\n",
            "135/135 [==============================] - 0s 2ms/step - loss: 0.0030 - mae: 0.0367\n",
            "Epoch 63/100\n",
            "134/135 [============================>.] - ETA: 0s - loss: 0.0032 - mae: 0.0388WARNING:tensorflow:Early stopping conditioned on metric `val_loss` which is not available. Available metrics are: loss,mae\n",
            "135/135 [==============================] - 0s 2ms/step - loss: 0.0031 - mae: 0.0387\n",
            "Epoch 64/100\n",
            "113/135 [========================>.....] - ETA: 0s - loss: 0.0031 - mae: 0.0373WARNING:tensorflow:Early stopping conditioned on metric `val_loss` which is not available. Available metrics are: loss,mae\n",
            "135/135 [==============================] - 0s 2ms/step - loss: 0.0030 - mae: 0.0370\n",
            "Epoch 65/100\n",
            "129/135 [===========================>..] - ETA: 0s - loss: 0.0033 - mae: 0.0385WARNING:tensorflow:Early stopping conditioned on metric `val_loss` which is not available. Available metrics are: loss,mae\n",
            "135/135 [==============================] - 0s 2ms/step - loss: 0.0033 - mae: 0.0386\n",
            "Epoch 66/100\n",
            "118/135 [=========================>....] - ETA: 0s - loss: 0.0033 - mae: 0.0384WARNING:tensorflow:Early stopping conditioned on metric `val_loss` which is not available. Available metrics are: loss,mae\n",
            "135/135 [==============================] - 0s 2ms/step - loss: 0.0033 - mae: 0.0383\n",
            "Epoch 67/100\n",
            "116/135 [========================>.....] - ETA: 0s - loss: 0.0031 - mae: 0.0393WARNING:tensorflow:Early stopping conditioned on metric `val_loss` which is not available. Available metrics are: loss,mae\n",
            "135/135 [==============================] - 0s 2ms/step - loss: 0.0031 - mae: 0.0389\n",
            "Epoch 68/100\n",
            "131/135 [============================>.] - ETA: 0s - loss: 0.0032 - mae: 0.0384WARNING:tensorflow:Early stopping conditioned on metric `val_loss` which is not available. Available metrics are: loss,mae\n",
            "135/135 [==============================] - 0s 2ms/step - loss: 0.0032 - mae: 0.0383\n",
            "Epoch 69/100\n",
            "131/135 [============================>.] - ETA: 0s - loss: 0.0030 - mae: 0.0376WARNING:tensorflow:Early stopping conditioned on metric `val_loss` which is not available. Available metrics are: loss,mae\n",
            "135/135 [==============================] - 0s 2ms/step - loss: 0.0031 - mae: 0.0377\n",
            "Epoch 70/100\n",
            "110/135 [=======================>......] - ETA: 0s - loss: 0.0032 - mae: 0.0382WARNING:tensorflow:Early stopping conditioned on metric `val_loss` which is not available. Available metrics are: loss,mae\n",
            "135/135 [==============================] - 0s 2ms/step - loss: 0.0031 - mae: 0.0377\n",
            "Epoch 71/100\n",
            "119/135 [=========================>....] - ETA: 0s - loss: 0.0031 - mae: 0.0377WARNING:tensorflow:Early stopping conditioned on metric `val_loss` which is not available. Available metrics are: loss,mae\n",
            "135/135 [==============================] - 0s 2ms/step - loss: 0.0031 - mae: 0.0377\n",
            "Epoch 72/100\n",
            "115/135 [========================>.....] - ETA: 0s - loss: 0.0031 - mae: 0.0387WARNING:tensorflow:Early stopping conditioned on metric `val_loss` which is not available. Available metrics are: loss,mae\n",
            "135/135 [==============================] - 0s 2ms/step - loss: 0.0031 - mae: 0.0382\n",
            "Epoch 73/100\n",
            "109/135 [=======================>......] - ETA: 0s - loss: 0.0029 - mae: 0.0361WARNING:tensorflow:Early stopping conditioned on metric `val_loss` which is not available. Available metrics are: loss,mae\n",
            "135/135 [==============================] - 0s 2ms/step - loss: 0.0031 - mae: 0.0373\n",
            "Epoch 74/100\n",
            "135/135 [==============================] - ETA: 0s - loss: 0.0030 - mae: 0.0369WARNING:tensorflow:Early stopping conditioned on metric `val_loss` which is not available. Available metrics are: loss,mae\n",
            "135/135 [==============================] - 0s 2ms/step - loss: 0.0030 - mae: 0.0369\n",
            "Epoch 75/100\n",
            "112/135 [=======================>......] - ETA: 0s - loss: 0.0032 - mae: 0.0392WARNING:tensorflow:Early stopping conditioned on metric `val_loss` which is not available. Available metrics are: loss,mae\n",
            "135/135 [==============================] - 0s 2ms/step - loss: 0.0031 - mae: 0.0382\n",
            "Epoch 76/100\n",
            "108/135 [=======================>......] - ETA: 0s - loss: 0.0031 - mae: 0.0368WARNING:tensorflow:Early stopping conditioned on metric `val_loss` which is not available. Available metrics are: loss,mae\n",
            "135/135 [==============================] - 0s 2ms/step - loss: 0.0031 - mae: 0.0375\n",
            "Epoch 77/100\n",
            "109/135 [=======================>......] - ETA: 0s - loss: 0.0030 - mae: 0.0371WARNING:tensorflow:Early stopping conditioned on metric `val_loss` which is not available. Available metrics are: loss,mae\n",
            "135/135 [==============================] - 0s 2ms/step - loss: 0.0030 - mae: 0.0367\n",
            "Epoch 78/100\n",
            "114/135 [========================>.....] - ETA: 0s - loss: 0.0032 - mae: 0.0381WARNING:tensorflow:Early stopping conditioned on metric `val_loss` which is not available. Available metrics are: loss,mae\n",
            "135/135 [==============================] - 0s 2ms/step - loss: 0.0031 - mae: 0.0376\n",
            "Epoch 79/100\n",
            "110/135 [=======================>......] - ETA: 0s - loss: 0.0030 - mae: 0.0368WARNING:tensorflow:Early stopping conditioned on metric `val_loss` which is not available. Available metrics are: loss,mae\n",
            "135/135 [==============================] - 0s 2ms/step - loss: 0.0030 - mae: 0.0368\n",
            "Epoch 80/100\n",
            "107/135 [======================>.......] - ETA: 0s - loss: 0.0029 - mae: 0.0366WARNING:tensorflow:Early stopping conditioned on metric `val_loss` which is not available. Available metrics are: loss,mae\n",
            "135/135 [==============================] - 0s 2ms/step - loss: 0.0029 - mae: 0.0370\n",
            "Epoch 81/100\n",
            "111/135 [=======================>......] - ETA: 0s - loss: 0.0030 - mae: 0.0378WARNING:tensorflow:Early stopping conditioned on metric `val_loss` which is not available. Available metrics are: loss,mae\n",
            "135/135 [==============================] - 0s 2ms/step - loss: 0.0030 - mae: 0.0377\n",
            "Epoch 82/100\n",
            "111/135 [=======================>......] - ETA: 0s - loss: 0.0031 - mae: 0.0366WARNING:tensorflow:Early stopping conditioned on metric `val_loss` which is not available. Available metrics are: loss,mae\n",
            "135/135 [==============================] - 0s 2ms/step - loss: 0.0029 - mae: 0.0361\n",
            "Epoch 83/100\n",
            "114/135 [========================>.....] - ETA: 0s - loss: 0.0031 - mae: 0.0378WARNING:tensorflow:Early stopping conditioned on metric `val_loss` which is not available. Available metrics are: loss,mae\n",
            "135/135 [==============================] - 0s 2ms/step - loss: 0.0030 - mae: 0.0374\n",
            "Epoch 84/100\n",
            "134/135 [============================>.] - ETA: 0s - loss: 0.0031 - mae: 0.0372WARNING:tensorflow:Early stopping conditioned on metric `val_loss` which is not available. Available metrics are: loss,mae\n",
            "135/135 [==============================] - 0s 2ms/step - loss: 0.0031 - mae: 0.0373\n",
            "Epoch 85/100\n",
            "135/135 [==============================] - ETA: 0s - loss: 0.0031 - mae: 0.0378WARNING:tensorflow:Early stopping conditioned on metric `val_loss` which is not available. Available metrics are: loss,mae\n",
            "135/135 [==============================] - 0s 2ms/step - loss: 0.0031 - mae: 0.0378\n",
            "Epoch 86/100\n",
            "135/135 [==============================] - ETA: 0s - loss: 0.0031 - mae: 0.0376WARNING:tensorflow:Early stopping conditioned on metric `val_loss` which is not available. Available metrics are: loss,mae\n",
            "135/135 [==============================] - 0s 2ms/step - loss: 0.0031 - mae: 0.0376\n",
            "Epoch 87/100\n",
            "133/135 [============================>.] - ETA: 0s - loss: 0.0028 - mae: 0.0360WARNING:tensorflow:Early stopping conditioned on metric `val_loss` which is not available. Available metrics are: loss,mae\n",
            "135/135 [==============================] - 0s 2ms/step - loss: 0.0029 - mae: 0.0362\n",
            "Epoch 88/100\n",
            "131/135 [============================>.] - ETA: 0s - loss: 0.0031 - mae: 0.0377WARNING:tensorflow:Early stopping conditioned on metric `val_loss` which is not available. Available metrics are: loss,mae\n",
            "135/135 [==============================] - 0s 2ms/step - loss: 0.0031 - mae: 0.0377\n",
            "Epoch 89/100\n",
            "115/135 [========================>.....] - ETA: 0s - loss: 0.0030 - mae: 0.0373WARNING:tensorflow:Early stopping conditioned on metric `val_loss` which is not available. Available metrics are: loss,mae\n",
            "135/135 [==============================] - 0s 2ms/step - loss: 0.0030 - mae: 0.0370\n",
            "Epoch 90/100\n",
            "111/135 [=======================>......] - ETA: 0s - loss: 0.0031 - mae: 0.0371WARNING:tensorflow:Early stopping conditioned on metric `val_loss` which is not available. Available metrics are: loss,mae\n",
            "135/135 [==============================] - 0s 2ms/step - loss: 0.0030 - mae: 0.0369\n",
            "Epoch 91/100\n",
            "133/135 [============================>.] - ETA: 0s - loss: 0.0030 - mae: 0.0372WARNING:tensorflow:Early stopping conditioned on metric `val_loss` which is not available. Available metrics are: loss,mae\n",
            "135/135 [==============================] - 0s 2ms/step - loss: 0.0030 - mae: 0.0371\n",
            "Epoch 92/100\n",
            "124/135 [==========================>...] - ETA: 0s - loss: 0.0030 - mae: 0.0369WARNING:tensorflow:Early stopping conditioned on metric `val_loss` which is not available. Available metrics are: loss,mae\n",
            "135/135 [==============================] - 0s 2ms/step - loss: 0.0030 - mae: 0.0369\n",
            "Epoch 93/100\n",
            "131/135 [============================>.] - ETA: 0s - loss: 0.0028 - mae: 0.0362WARNING:tensorflow:Early stopping conditioned on metric `val_loss` which is not available. Available metrics are: loss,mae\n",
            "135/135 [==============================] - 0s 2ms/step - loss: 0.0030 - mae: 0.0367\n",
            "Epoch 94/100\n",
            "107/135 [======================>.......] - ETA: 0s - loss: 0.0029 - mae: 0.0363WARNING:tensorflow:Early stopping conditioned on metric `val_loss` which is not available. Available metrics are: loss,mae\n",
            "135/135 [==============================] - 0s 2ms/step - loss: 0.0029 - mae: 0.0366\n",
            "Epoch 95/100\n",
            "134/135 [============================>.] - ETA: 0s - loss: 0.0030 - mae: 0.0369WARNING:tensorflow:Early stopping conditioned on metric `val_loss` which is not available. Available metrics are: loss,mae\n",
            "135/135 [==============================] - 0s 2ms/step - loss: 0.0030 - mae: 0.0370\n",
            "Epoch 96/100\n",
            "111/135 [=======================>......] - ETA: 0s - loss: 0.0031 - mae: 0.0381WARNING:tensorflow:Early stopping conditioned on metric `val_loss` which is not available. Available metrics are: loss,mae\n",
            "135/135 [==============================] - 0s 2ms/step - loss: 0.0031 - mae: 0.0379\n",
            "Epoch 97/100\n",
            "110/135 [=======================>......] - ETA: 0s - loss: 0.0032 - mae: 0.0381WARNING:tensorflow:Early stopping conditioned on metric `val_loss` which is not available. Available metrics are: loss,mae\n",
            "135/135 [==============================] - 0s 2ms/step - loss: 0.0031 - mae: 0.0377\n",
            "Epoch 98/100\n",
            "132/135 [============================>.] - ETA: 0s - loss: 0.0030 - mae: 0.0369WARNING:tensorflow:Early stopping conditioned on metric `val_loss` which is not available. Available metrics are: loss,mae\n",
            "135/135 [==============================] - 0s 2ms/step - loss: 0.0030 - mae: 0.0370\n",
            "Epoch 99/100\n",
            "126/135 [===========================>..] - ETA: 0s - loss: 0.0030 - mae: 0.0373WARNING:tensorflow:Early stopping conditioned on metric `val_loss` which is not available. Available metrics are: loss,mae\n",
            "135/135 [==============================] - 0s 2ms/step - loss: 0.0031 - mae: 0.0374\n",
            "Epoch 100/100\n",
            "133/135 [============================>.] - ETA: 0s - loss: 0.0030 - mae: 0.0368WARNING:tensorflow:Early stopping conditioned on metric `val_loss` which is not available. Available metrics are: loss,mae\n",
            "135/135 [==============================] - 0s 2ms/step - loss: 0.0030 - mae: 0.0369\n"
          ],
          "name": "stdout"
        }
      ]
    },
    {
      "cell_type": "code",
      "metadata": {
        "id": "CQkb3AAHRFCW",
        "outputId": "eb984d48-819a-422f-fd3f-43c79e27ba34",
        "colab": {
          "base_uri": "https://localhost:8080/"
        }
      },
      "source": [
        "res = model.evaluate(x_test,y_test,batch_size=16)"
      ],
      "execution_count": 55,
      "outputs": [
        {
          "output_type": "stream",
          "text": [
            "32/32 [==============================] - 0s 1ms/step - loss: 0.3270 - mae: 0.2399\n"
          ],
          "name": "stdout"
        }
      ]
    },
    {
      "cell_type": "code",
      "metadata": {
        "id": "O9xXv72VRNPm"
      },
      "source": [
        "y_hat = model.predict(x_test)"
      ],
      "execution_count": 66,
      "outputs": []
    },
    {
      "cell_type": "code",
      "metadata": {
        "id": "tgcI8k5CFmtC",
        "outputId": "2f0e11da-5285-4433-d7e3-da048f0d2697",
        "colab": {
          "base_uri": "https://localhost:8080/"
        }
      },
      "source": [
        "x_test.shape,y_hat.shape,y_test.shape"
      ],
      "execution_count": 38,
      "outputs": [
        {
          "output_type": "execute_result",
          "data": {
            "text/plain": [
              "((509, 1, 4), (509, 1), (509, 1))"
            ]
          },
          "metadata": {
            "tags": []
          },
          "execution_count": 38
        }
      ]
    },
    {
      "cell_type": "code",
      "metadata": {
        "id": "n-o4NZSKRVQW",
        "outputId": "a3000abc-ebec-4075-89bd-56ad5e61e497",
        "colab": {
          "base_uri": "https://localhost:8080/",
          "height": 537
        }
      },
      "source": [
        "plt.figure(figsize=(12,9))\n",
        "plt.plot(y_hat, label = \"predicted\")\n",
        "plt.plot(y_test,label = \"actual\")\n",
        "plt.legend()\n",
        "plt.show()"
      ],
      "execution_count": 67,
      "outputs": [
        {
          "output_type": "display_data",
          "data": {
            "image/png": "[encoded data removed]",
            "text/plain": [
              "<Figure size 864x648 with 1 Axes>"
            ]
          },
          "metadata": {
            "tags": [],
            "needs_background": "light"
          }
        }
      ]
    },
    {
      "cell_type": "code",
      "metadata": {
        "id": "ntOkeP2ZRaau"
      },
      "source": [
        ""
      ],
      "execution_count": 24,
      "outputs": []
    }
  ]
}